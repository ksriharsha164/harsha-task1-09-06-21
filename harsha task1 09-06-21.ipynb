{
 "cells": [
  {
   "cell_type": "markdown",
   "id": "ad76fc50",
   "metadata": {},
   "source": [
    "Checking the roll numbers"
   ]
  },
  {
   "cell_type": "code",
   "execution_count": 2,
   "id": "5eca8dba",
   "metadata": {},
   "outputs": [
    {
     "name": "stdout",
     "output_type": "stream",
     "text": [
      "Enter your roll number:-AP19110010164\n",
      "Roll Number not belongs to SRM University\n"
     ]
    }
   ],
   "source": [
    "string=input(\"Enter your roll number:-\")\n",
    "if string[-3:].startswith('01'):\n",
    "    print(\"CSE Department\")\n",
    "elif string[-3:].startswith('11'):\n",
    "    print(\"IT Department\")\n",
    "elif string[-3:].startswith('21'):\n",
    "    print(\"ECE Department\")\n",
    "else:\n",
    "    print(\"Roll Number not belongs to SRM University\")"
   ]
  },
  {
   "cell_type": "code",
   "execution_count": null,
   "id": "639dfab7",
   "metadata": {},
   "outputs": [],
   "source": []
  }
 ],
 "metadata": {
  "kernelspec": {
   "display_name": "Python 3",
   "language": "python",
   "name": "python3"
  },
  "language_info": {
   "codemirror_mode": {
    "name": "ipython",
    "version": 3
   },
   "file_extension": ".py",
   "mimetype": "text/x-python",
   "name": "python",
   "nbconvert_exporter": "python",
   "pygments_lexer": "ipython3",
   "version": "3.8.8"
  }
 },
 "nbformat": 4,
 "nbformat_minor": 5
}
